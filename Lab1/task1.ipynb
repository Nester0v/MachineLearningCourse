{
 "cells": [
  {
   "cell_type": "markdown",
   "source": [
    "# Практика №1"
   ],
   "metadata": {
    "collapsed": false
   }
  },
  {
   "cell_type": "markdown",
   "source": [
    "Розглянемо спрощену задачу відновлення залежності. Отже, на вході маємо координати двох точок. На виході необхідно отримати рівняння прямої, що проходить через обидві точки.\n",
    "\n",
    "Таким чином, завдання полягає в тому, щоб реалізувати функцію, яка приймає значення координат двох точок як вхідні параметри і повертає рядок, який представляє собою рівняння прямої\n"
   ],
   "metadata": {
    "collapsed": false
   }
  },
  {
   "cell_type": "markdown",
   "source": [
    "Нехай заданими двома точками є $A(x_1, y_1)$ і $B(x_2, y_2)$. Тепер необхідно знайти рівняння прямої, утвореної цими точками.\n",
    "\n",
    "Нагадаємо, що будь-яку пряму можна представити наступним чином:\n",
    "$$\n",
    "ax + by = c\n",
    "$$\n",
    "\n",
    "Нехай дві точки задовольняють дану пряму. В такому випадку маємо наступне\n",
    "$$\n",
    "ax_1 + by_1 = c\n",
    "$$\n",
    "$$\n",
    "ax_2 + by_2 = c\n",
    "$$"
   ],
   "metadata": {
    "collapsed": false
   }
  },
  {
   "cell_type": "markdown",
   "source": [
    "### Завдання 1.\n",
    "Враховуючи те, що можна встановити такі значення, щоб усі вищезазначені рівняння були вірними, вам необхідно отримати вирази для $a$ і $b$, а потім обрахувати значення $c$."
   ],
   "metadata": {
    "collapsed": false
   }
  },
  {
   "cell_type": "code",
   "execution_count": 21,
   "outputs": [
    {
     "data": {
      "text/plain": "'2.5x + y = 9.5'"
     },
     "execution_count": 21,
     "metadata": {},
     "output_type": "execute_result"
    }
   ],
   "source": [
    "def find_equation_of_line(point1, point2):\n",
    "    x1, y1 = point1\n",
    "    x2, y2 = point2\n",
    "    \n",
    "    # Calculate the slope (a) and intercept (b) of the line\n",
    "    a = (y2 - y1) / (x2 - x1)\n",
    "    b = -1\n",
    "    \n",
    "    # Build the equation of the line in the form \"ax + by = c\"\n",
    "    c = a * x1 - b * y1\n",
    "    equation = f\"{a}x + y = {c}\"\n",
    "    \n",
    "    return equation\n",
    "\n",
    "# Define your points\n",
    "point1 = (3, 2)  # Replace with your coordinates\n",
    "point2 = (5, 7)  # Replace with your coordinates\n",
    "\n",
    "# Calculate the equation of the line\n",
    "line_equation = find_equation_of_line(point1, point2)\n",
    "\n",
    "line_equation"
   ],
   "metadata": {
    "collapsed": false,
    "ExecuteTime": {
     "end_time": "2023-10-11T10:24:00.287825800Z",
     "start_time": "2023-10-11T10:24:00.274826100Z"
    }
   }
  },
  {
   "cell_type": "markdown",
   "source": [
    "#### Приклад:\n",
    "Для двох точок $A = (3, 2)$ і $B = (5, 7)$ отримаємо рівняння $$5x-2y=11$$"
   ],
   "metadata": {
    "collapsed": false
   }
  },
  {
   "cell_type": "markdown",
   "source": [
    "### Завдання 2.\n",
    "Реалізувати функцію, яка буде повертати рівняння прямої."
   ],
   "metadata": {
    "collapsed": false
   }
  },
  {
   "cell_type": "code",
   "execution_count": 22,
   "outputs": [
    {
     "data": {
      "text/plain": "'2.5x + -1y = 9.5'"
     },
     "execution_count": 22,
     "metadata": {},
     "output_type": "execute_result"
    }
   ],
   "source": [
    "def line_equation(point1, point2):\n",
    "    x1, y1 = point1\n",
    "    x2, y2 = point2\n",
    "\n",
    "    # Calculation of coefficients a and b for direct comparison\n",
    "    a = (y2 - y1) / (x2 - x1)\n",
    "    b = -1  # Select the value -1 for a free member\n",
    "\n",
    "    # Calculation value c\n",
    "    c = a * x1 - b * y1\n",
    "\n",
    "    # Construction of the equation of a straight line in the form \"ax + by = c\"\n",
    "    equation = f\"{a}x + {b}y = {c}\"\n",
    "\n",
    "    return equation\n",
    "\n",
    "# Determination of coordinates of two points A and B\n",
    "point1 = (3, 2)  # Replace these values with the coordinates of the first point\n",
    "point2 = (5, 7)  # Replace these values with the coordinates of the second point\n",
    "\n",
    "# Calling the function and obtaining the equation of the line\n",
    "result = line_equation(point1, point2)\n",
    "result"
   ],
   "metadata": {
    "collapsed": false,
    "ExecuteTime": {
     "end_time": "2023-10-11T10:25:08.345772200Z",
     "start_time": "2023-10-11T10:25:08.334773500Z"
    }
   }
  },
  {
   "cell_type": "code",
   "execution_count": 13,
   "outputs": [],
   "source": [],
   "metadata": {
    "collapsed": false,
    "ExecuteTime": {
     "end_time": "2023-10-11T10:19:08.898849200Z",
     "start_time": "2023-10-11T10:19:08.862848400Z"
    }
   }
  },
  {
   "cell_type": "code",
   "execution_count": 13,
   "outputs": [],
   "source": [],
   "metadata": {
    "collapsed": false,
    "ExecuteTime": {
     "end_time": "2023-10-11T10:19:08.899847500Z",
     "start_time": "2023-10-11T10:19:08.868849600Z"
    }
   }
  }
 ],
 "metadata": {
  "kernelspec": {
   "display_name": "Python 3",
   "language": "python",
   "name": "python3"
  },
  "language_info": {
   "codemirror_mode": {
    "name": "ipython",
    "version": 2
   },
   "file_extension": ".py",
   "mimetype": "text/x-python",
   "name": "python",
   "nbconvert_exporter": "python",
   "pygments_lexer": "ipython2",
   "version": "2.7.6"
  }
 },
 "nbformat": 4,
 "nbformat_minor": 0
}
