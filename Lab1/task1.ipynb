{
 "cells": [
  {
   "cell_type": "markdown",
   "source": [
    "# Практика №1"
   ],
   "metadata": {
    "collapsed": false
   }
  },
  {
   "cell_type": "markdown",
   "source": [
    "Розглянемо спрощену задачу відновлення залежності. Отже, на вході маємо координати двох точок. На виході необхідно отримати рівняння прямої, що проходить через обидві точки.\n",
    "\n",
    "Таким чином, завдання полягає в тому, щоб реалізувати функцію, яка приймає значення координат двох точок як вхідні параметри і повертає рядок, який представляє собою рівняння прямої\n"
   ],
   "metadata": {
    "collapsed": false
   }
  },
  {
   "cell_type": "markdown",
   "source": [
    "Нехай заданими двома точками є $A(x_1, y_1)$ і $B(x_2, y_2)$. Тепер необхідно знайти рівняння прямої, утвореної цими точками.\n",
    "\n",
    "Нагадаємо, що будь-яку пряму можна представити наступним чином:\n",
    "$$\n",
    "ax + by = c\n",
    "$$\n",
    "\n",
    "Нехай дві точки задовольняють дану пряму. В такому випадку маємо наступне\n",
    "$$\n",
    "ax_1 + by_1 = c\n",
    "$$\n",
    "$$\n",
    "ax_2 + by_2 = c\n",
    "$$"
   ],
   "metadata": {
    "collapsed": false
   }
  },
  {
   "cell_type": "markdown",
   "source": [
    "### Завдання 1.\n",
    "Враховуючи те, що можна встановити такі значення, щоб усі вищезазначені рівняння були вірними, вам необхідно отримати вирази для $a$ і $b$, а потім обрахувати значення $c$."
   ],
   "metadata": {
    "collapsed": false
   }
  },
  {
   "cell_type": "code",
   "execution_count": 13,
   "outputs": [
    {
     "name": "stdout",
     "output_type": "stream",
     "text": [
      "5.0x + 0.0y = 5.0\n"
     ]
    }
   ],
   "source": [
    "def find_equation_of_line():\n",
    "    # Manually enter coordinates for point1 and point2\n",
    "    x1, y1 = map(float, input(\"Enter x1 y1 (use space between): \").split())\n",
    "    x2, y2 = map(float, input(\"Enter x2 y2 (use space between): \").split())\n",
    "    \n",
    "    # Calculate the slope (a) and intercept (b) of the line\n",
    "    a = y2 - y1\n",
    "    b = x1 - x2\n",
    "    \n",
    "    # Build the equation of the line in the form \"ax + by = c\"\n",
    "    c = a * x1 + b * y1\n",
    "    equation = f\"{a}x + {b}y = {c}\"\n",
    "    \n",
    "    return equation\n",
    "\n",
    "# Calculate the equation of the line\n",
    "line_equation = find_equation_of_line()\n",
    "\n",
    "print(line_equation)"
   ],
   "metadata": {
    "collapsed": false,
    "ExecuteTime": {
     "end_time": "2023-12-12T10:07:48.086802200Z",
     "start_time": "2023-12-12T10:07:41.768731500Z"
    }
   }
  },
  {
   "cell_type": "markdown",
   "source": [
    "#### Приклад:\n",
    "Для двох точок $A = (3, 2)$ і $B = (5, 7)$ отримаємо рівняння $$5x-2y=11$$"
   ],
   "metadata": {
    "collapsed": false
   }
  },
  {
   "cell_type": "markdown",
   "source": [
    "### Завдання 2.\n",
    "Реалізувати функцію, яка буде повертати рівняння прямої."
   ],
   "metadata": {
    "collapsed": false
   }
  },
  {
   "cell_type": "code",
   "execution_count": 15,
   "outputs": [
    {
     "name": "stdout",
     "output_type": "stream",
     "text": [
      "-1.0x + y = 6.0\n"
     ]
    }
   ],
   "source": [
    "def find_equation_of_line(point1, point2):\n",
    "    x1, y1 = map(float, point1)\n",
    "    x2, y2 = map(float, point2)\n",
    "    \n",
    "    # Calculate the slope (a) and intercept (b) of the line\n",
    "    a = (y2 - y1) / (x2 - x1)\n",
    "    b = -1\n",
    "    \n",
    "    # Build the equation of the line in the form \"ax + by = c\"\n",
    "    c = a * x1 - b * y1\n",
    "    equation = f\"{a}x + y = {c}\"\n",
    "    \n",
    "    return equation\n",
    "\n",
    "# Manually enter coordinates for point1 and point2\n",
    "point1_input = input(\"Enter x1 y1 (use space between): \")\n",
    "point2_input = input(\"Enter x2 y2 (use space between): \")\n",
    "\n",
    "# Convert input strings to tuples of floats\n",
    "point1 = tuple(map(float, point1_input.split()))\n",
    "point2 = tuple(map(float, point2_input.split()))\n",
    "\n",
    "# Calculate the equation of the line\n",
    "line_equation = find_equation_of_line(point1, point2)\n",
    "\n",
    "print(line_equation)"
   ],
   "metadata": {
    "collapsed": false,
    "ExecuteTime": {
     "end_time": "2023-12-12T10:08:05.133746600Z",
     "start_time": "2023-12-12T10:08:00.265789600Z"
    }
   }
  },
  {
   "cell_type": "code",
   "execution_count": 13,
   "outputs": [],
   "source": [],
   "metadata": {
    "collapsed": false,
    "ExecuteTime": {
     "end_time": "2023-10-11T10:19:08.898849200Z",
     "start_time": "2023-10-11T10:19:08.862848400Z"
    }
   }
  },
  {
   "cell_type": "code",
   "execution_count": 13,
   "outputs": [],
   "source": [],
   "metadata": {
    "collapsed": false,
    "ExecuteTime": {
     "end_time": "2023-10-11T10:19:08.899847500Z",
     "start_time": "2023-10-11T10:19:08.868849600Z"
    }
   }
  }
 ],
 "metadata": {
  "kernelspec": {
   "display_name": "Python 3",
   "language": "python",
   "name": "python3"
  },
  "language_info": {
   "codemirror_mode": {
    "name": "ipython",
    "version": 2
   },
   "file_extension": ".py",
   "mimetype": "text/x-python",
   "name": "python",
   "nbconvert_exporter": "python",
   "pygments_lexer": "ipython2",
   "version": "2.7.6"
  }
 },
 "nbformat": 4,
 "nbformat_minor": 0
}
