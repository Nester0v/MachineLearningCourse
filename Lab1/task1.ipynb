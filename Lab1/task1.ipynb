{
 "cells": [
  {
   "cell_type": "markdown",
   "source": [
    "# Практика №1"
   ],
   "metadata": {
    "collapsed": false
   }
  },
  {
   "cell_type": "markdown",
   "source": [
    "Розглянемо спрощену задачу відновлення залежності. Отже, на вході маємо координати двох точок. На виході необхідно отримати рівняння прямої, що проходить через обидві точки.\n",
    "\n",
    "Таким чином, завдання полягає в тому, щоб реалізувати функцію, яка приймає значення координат двох точок як вхідні параметри і повертає рядок, який представляє собою рівняння прямої\n"
   ],
   "metadata": {
    "collapsed": false
   }
  },
  {
   "cell_type": "markdown",
   "source": [
    "Нехай заданими двома точками є $A(x_1, y_1)$ і $B(x_2, y_2)$. Тепер необхідно знайти рівняння прямої, утвореної цими точками.\n",
    "\n",
    "Нагадаємо, що будь-яку пряму можна представити наступним чином:\n",
    "$$\n",
    "ax + by = c\n",
    "$$\n",
    "\n",
    "Нехай дві точки задовольняють дану пряму. В такому випадку маємо наступне\n",
    "$$\n",
    "ax_1 + by_1 = c\n",
    "$$\n",
    "$$\n",
    "ax_2 + by_2 = c\n",
    "$$"
   ],
   "metadata": {
    "collapsed": false
   }
  },
  {
   "cell_type": "markdown",
   "source": [
    "### Завдання 1.\n",
    "Враховуючи те, що можна встановити такі значення, щоб усі вищезазначені рівняння були вірними, вам необхідно отримати вирази для $a$ і $b$, а потім обрахувати значення $c$."
   ],
   "metadata": {
    "collapsed": false
   }
  },
  {
   "cell_type": "markdown",
   "source": [
    "#### Приклад:\n",
    "Для двох точок $A = (3, 2)$ і $B = (5, 7)$ отримаємо рівняння $$5x-2y=11$$"
   ],
   "metadata": {
    "collapsed": false
   }
  },
  {
   "cell_type": "markdown",
   "source": [
    "### Завдання 2.\n",
    "Реалізувати функцію, яка буде повертати рівняння прямої."
   ],
   "metadata": {
    "collapsed": false
   }
  },
  {
   "cell_type": "code",
   "execution_count": 2,
   "outputs": [],
   "source": [
    "def check_point_on_line(x, y):\n",
    "\n",
    "    equation_result = 5 * x - 2 * y\n",
    "    return equation_result == 11\n",
    "\n",
    "point_A = (3, 2)\n",
    "point_B = (5, 7)\n",
    "\n",
    "is_point_A_on_line = check_point_on_line(point_A[0], point_A[1])\n",
    "is_point_B_on_line = check_point_on_line(point_B[0], point_B[1])\n",
    "\n",
    "print(f\"Point A {(point_A[0], point_A[1])} lies on the line: {is_point_A_on_line}\")\n",
    "print(f\"Point B {(point_B[0], point_B[1])} lies on the line: {is_point_B_on_line}\")"
   ],
   "metadata": {
    "collapsed": false,
    "ExecuteTime": {
     "end_time": "2023-09-05T08:18:26.120313800Z",
     "start_time": "2023-09-05T08:18:26.120313800Z"
    }
   }
  },
  {
   "cell_type": "code",
   "execution_count": null,
   "outputs": [],
   "source": [],
   "metadata": {
    "collapsed": false
   }
  }
 ],
 "metadata": {
  "kernelspec": {
   "display_name": "Python 3",
   "language": "python",
   "name": "python3"
  },
  "language_info": {
   "codemirror_mode": {
    "name": "ipython",
    "version": 2
   },
   "file_extension": ".py",
   "mimetype": "text/x-python",
   "name": "python",
   "nbconvert_exporter": "python",
   "pygments_lexer": "ipython2",
   "version": "2.7.6"
  }
 },
 "nbformat": 4,
 "nbformat_minor": 0
}
