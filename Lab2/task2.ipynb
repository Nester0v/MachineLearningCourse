{
 "cells": [
  {
   "cell_type": "markdown",
   "source": [
    "# Практика №2\n",
    "## Робота з NumPy\n"
   ],
   "metadata": {
    "collapsed": false
   },
   "id": "484239dfe77bd680"
  },
  {
   "cell_type": "code",
   "execution_count": 2,
   "outputs": [],
   "source": [
    "import numpy as np"
   ],
   "metadata": {
    "collapsed": false,
    "ExecuteTime": {
     "end_time": "2023-12-12T10:16:11.451641100Z",
     "start_time": "2023-12-12T10:16:11.423644400Z"
    }
   },
   "id": "c2515f4c385bf434"
  },
  {
   "cell_type": "markdown",
   "source": [
    "1. Створіть вектор (1,2,3) і виведіть його. Виведіть тип масиву.\n",
    "2. Створіть наступну матрицю і виведіть її:\n",
    "$$\n",
    "\\left(\\begin{array}{cc} \n",
    "1 & 2 & 3\\\\\n",
    "4 & 5 & 6\\\\\n",
    "7 & 8 & 9\n",
    "\\end{array}\\right)\n",
    "$$ \n",
    "3. Створіть нульову матрицю розміром (4,5) - див. numpy.zeros.\n",
    "4. Створіть одиничну матрицю розміром (3,3) - див. numpy.identity.\n",
    "5. Виведіть розмір матриці, створеної на 2 кроці.\n",
    "6. Створити дві матриці  $A = \n",
    "\\left(\\begin{array}{cc} \n",
    "1 & 2 & 3\\\\\n",
    "4 & 5 & 6\n",
    "\\end{array}\\right)\n",
    "$ і $B = \n",
    "\\left(\\begin{array}{cc} \n",
    "-1 & -2 & -3\\\\\n",
    "-4 & -5 & -6\n",
    "\\end{array}\\right)\n",
    "$. Виконайте операції додавання і віднімання для цих двох матриць.\n",
    "7. Для вищезазначених матриць виконайте поелементне множення.\n",
    "8. До матриці $A$ додайте константу $b=2$.\n",
    "9. Виконайте множення матриці $\\left(\\begin{array}{cc} \n",
    "1 & 2 & 3\\\\\n",
    "4 & 5 & 6\n",
    "\\end{array}\\right)\n",
    "$ на матрицю $\\left(\\begin{array}{cc} \n",
    "1 & 1\\\\\n",
    "1 & 1\\\\\n",
    "1 & 1\n",
    "\\end{array}\\right)\n",
    "$\n",
    "10. Для двох векторів $v = (1,2,3)$ і $u = (1,1,1)$ знайти Евклідову норму (див. numpy.linalg.norm)\n",
    "11. Дано вектор $[11,22,33,44,55]$. Необхідно вивести усі елементи від передостаннього елемента до кінця (використайте зріз).\n"
   ],
   "metadata": {
    "collapsed": false
   },
   "id": "43da353f13bb1d49"
  },
  {
   "cell_type": "code",
   "execution_count": 4,
   "outputs": [
    {
     "name": "stdout",
     "output_type": "stream",
     "text": [
      "Vector: [1 2 3]\n",
      "Type: <class 'numpy.ndarray'>\n"
     ]
    }
   ],
   "source": [
    "vector = np.array([1, 2, 3])\n",
    "print(\"Vector:\", vector)\n",
    "print(\"Type:\", type(vector))"
   ],
   "metadata": {
    "collapsed": false,
    "ExecuteTime": {
     "end_time": "2023-12-12T10:16:19.001713100Z",
     "start_time": "2023-12-12T10:16:18.993197600Z"
    }
   },
   "id": "71983571cf1726e1"
  },
  {
   "cell_type": "markdown",
   "source": [],
   "metadata": {
    "collapsed": false
   },
   "id": "1cb3380712e1df5a"
  },
  {
   "cell_type": "code",
   "execution_count": 5,
   "outputs": [
    {
     "name": "stdout",
     "output_type": "stream",
     "text": [
      "\n",
      "Matrix:\n",
      " [[1 2 3]\n",
      " [4 5 6]\n",
      " [7 8 9]]\n"
     ]
    }
   ],
   "source": [
    "matrix = np.array([[1, 2, 3], [4, 5, 6], [7, 8, 9]])\n",
    "print(\"\\nMatrix:\\n\", matrix)"
   ],
   "metadata": {
    "collapsed": false,
    "ExecuteTime": {
     "end_time": "2023-12-12T10:17:41.048682600Z",
     "start_time": "2023-12-12T10:17:41.039162400Z"
    }
   },
   "id": "2af1fe0497f37da1"
  },
  {
   "cell_type": "code",
   "execution_count": 7,
   "outputs": [
    {
     "name": "stdout",
     "output_type": "stream",
     "text": [
      "\n",
      "Zero Matrix:\n",
      " [[0. 0. 0. 0. 0.]\n",
      " [0. 0. 0. 0. 0.]\n",
      " [0. 0. 0. 0. 0.]\n",
      " [0. 0. 0. 0. 0.]]\n"
     ]
    }
   ],
   "source": [
    "zero_matrix = np.zeros((4, 5))\n",
    "print(\"\\nZero Matrix:\\n\", zero_matrix)"
   ],
   "metadata": {
    "collapsed": false,
    "ExecuteTime": {
     "end_time": "2023-12-12T10:17:56.137600500Z",
     "start_time": "2023-12-12T10:17:56.132087300Z"
    }
   },
   "id": "123dc262ded4b53c"
  },
  {
   "cell_type": "code",
   "execution_count": 8,
   "outputs": [
    {
     "name": "stdout",
     "output_type": "stream",
     "text": [
      "\n",
      "Identity Matrix:\n",
      " [[1. 0. 0.]\n",
      " [0. 1. 0.]\n",
      " [0. 0. 1.]]\n"
     ]
    }
   ],
   "source": [
    "identity_matrix = np.identity(3)\n",
    "print(\"\\nIdentity Matrix:\\n\", identity_matrix)"
   ],
   "metadata": {
    "collapsed": false,
    "ExecuteTime": {
     "end_time": "2023-12-12T10:18:11.992991700Z",
     "start_time": "2023-12-12T10:18:11.975827100Z"
    }
   },
   "id": "c8abcf39db326161"
  },
  {
   "cell_type": "code",
   "execution_count": 9,
   "outputs": [
    {
     "name": "stdout",
     "output_type": "stream",
     "text": [
      "\n",
      "Matrix Size: (3, 3)\n"
     ]
    }
   ],
   "source": [
    "matrix_size = matrix.shape\n",
    "print(\"\\nMatrix Size:\", matrix_size)"
   ],
   "metadata": {
    "collapsed": false,
    "ExecuteTime": {
     "end_time": "2023-12-12T10:18:30.465190700Z",
     "start_time": "2023-12-12T10:18:30.455854200Z"
    }
   },
   "id": "b666bd88d81efd5d"
  },
  {
   "cell_type": "code",
   "execution_count": 10,
   "outputs": [
    {
     "name": "stdout",
     "output_type": "stream",
     "text": [
      "\n",
      "Matrix A:\n",
      " [[1 2 3]\n",
      " [4 5 6]]\n",
      "\n",
      "Matrix B:\n",
      " [[-1 -2 -3]\n",
      " [-4 -5 -6]]\n",
      "\n",
      "Addition Result:\n",
      " [[0 0 0]\n",
      " [0 0 0]]\n",
      "\n",
      "Subtraction Result:\n",
      " [[ 2  4  6]\n",
      " [ 8 10 12]]\n"
     ]
    }
   ],
   "source": [
    "A = np.array([[1, 2, 3], [4, 5, 6]])\n",
    "B = np.array([[-1, -2, -3], [-4, -5, -6]])\n",
    "\n",
    "addition_result = A + B\n",
    "subtraction_result = A - B\n",
    "\n",
    "print(\"\\nMatrix A:\\n\", A)\n",
    "print(\"\\nMatrix B:\\n\", B)\n",
    "print(\"\\nAddition Result:\\n\", addition_result)\n",
    "print(\"\\nSubtraction Result:\\n\", subtraction_result)"
   ],
   "metadata": {
    "collapsed": false,
    "ExecuteTime": {
     "end_time": "2023-12-12T10:18:41.098849200Z",
     "start_time": "2023-12-12T10:18:41.089417500Z"
    }
   },
   "id": "ca35c493dab84e61"
  },
  {
   "cell_type": "code",
   "execution_count": 11,
   "outputs": [
    {
     "name": "stdout",
     "output_type": "stream",
     "text": [
      "\n",
      "Element-wise Multiplication Result:\n",
      " [[ -1  -4  -9]\n",
      " [-16 -25 -36]]\n"
     ]
    }
   ],
   "source": [
    "elementwise_multiply_result = np.multiply(A, B)\n",
    "print(\"\\nElement-wise Multiplication Result:\\n\", elementwise_multiply_result)"
   ],
   "metadata": {
    "collapsed": false,
    "ExecuteTime": {
     "end_time": "2023-12-12T10:18:55.443505Z",
     "start_time": "2023-12-12T10:18:55.435506600Z"
    }
   },
   "id": "2c59a811ea39222e"
  },
  {
   "cell_type": "code",
   "execution_count": 12,
   "outputs": [
    {
     "name": "stdout",
     "output_type": "stream",
     "text": [
      "\n",
      "Matrix A + b:\n",
      " [[3 4 5]\n",
      " [6 7 8]]\n"
     ]
    }
   ],
   "source": [
    "b = 2\n",
    "A_plus_b = A + b\n",
    "print(\"\\nMatrix A + b:\\n\", A_plus_b)"
   ],
   "metadata": {
    "collapsed": false,
    "ExecuteTime": {
     "end_time": "2023-12-12T10:18:58.150723700Z",
     "start_time": "2023-12-12T10:18:58.134591500Z"
    }
   },
   "id": "b3c9d5163bc9ae33"
  },
  {
   "cell_type": "code",
   "execution_count": 15,
   "outputs": [
    {
     "name": "stdout",
     "output_type": "stream",
     "text": [
      "\n",
      "Matrix Multiplication Result:\n",
      " [[ 6  6]\n",
      " [15 15]]\n"
     ]
    }
   ],
   "source": [
    "C = np.array([[1, 2, 3], [4, 5, 6]])\n",
    "D = np.array([[1, 1], [1, 1], [1, 1]])\n",
    "\n",
    "matrix_multiply_result = np.dot(C, D)\n",
    "print(\"\\nMatrix Multiplication Result:\\n\", matrix_multiply_result)"
   ],
   "metadata": {
    "collapsed": false,
    "ExecuteTime": {
     "end_time": "2023-12-12T10:19:17.491880500Z",
     "start_time": "2023-12-12T10:19:17.480232300Z"
    }
   },
   "id": "4e4f4a59bdfd5da5"
  },
  {
   "cell_type": "code",
   "execution_count": 16,
   "outputs": [
    {
     "name": "stdout",
     "output_type": "stream",
     "text": [
      "\n",
      "Euclidean Norm of v: 3.7416573867739413\n",
      "Euclidean Norm of u: 1.7320508075688772\n"
     ]
    }
   ],
   "source": [
    "v = np.array([1, 2, 3])\n",
    "u = np.array([1, 1, 1])\n",
    "\n",
    "norm_v = np.linalg.norm(v)\n",
    "norm_u = np.linalg.norm(u)\n",
    "\n",
    "print(\"\\nEuclidean of v:\", norm_v)\n",
    "print(\"Euclidean of u:\", norm_u)\n"
   ],
   "metadata": {
    "collapsed": false,
    "ExecuteTime": {
     "end_time": "2023-12-12T10:19:25.037738300Z",
     "start_time": "2023-12-12T10:19:25.027189400Z"
    }
   },
   "id": "fefefaa65228d510"
  },
  {
   "cell_type": "code",
   "execution_count": 17,
   "outputs": [
    {
     "name": "stdout",
     "output_type": "stream",
     "text": [
      "\n",
      "Elements from second-to-last to the end: [44 55]\n"
     ]
    }
   ],
   "source": [
    "vector_11 = np.array([11, 22, 33, 44, 55])\n",
    "elements_from_second_to_last = vector_11[-2:]\n",
    "print(\"\\nElements from second-to-last to the end:\", elements_from_second_to_last)"
   ],
   "metadata": {
    "collapsed": false,
    "ExecuteTime": {
     "end_time": "2023-12-12T10:20:07.826720900Z",
     "start_time": "2023-12-12T10:20:07.809224100Z"
    }
   },
   "id": "862a3265d5dddd2e"
  },
  {
   "cell_type": "code",
   "execution_count": null,
   "outputs": [],
   "source": [],
   "metadata": {
    "collapsed": false
   },
   "id": "757bda5d31996746"
  }
 ],
 "metadata": {
  "kernelspec": {
   "display_name": "Python 3",
   "language": "python",
   "name": "python3"
  },
  "language_info": {
   "codemirror_mode": {
    "name": "ipython",
    "version": 2
   },
   "file_extension": ".py",
   "mimetype": "text/x-python",
   "name": "python",
   "nbconvert_exporter": "python",
   "pygments_lexer": "ipython2",
   "version": "2.7.6"
  }
 },
 "nbformat": 4,
 "nbformat_minor": 5
}
