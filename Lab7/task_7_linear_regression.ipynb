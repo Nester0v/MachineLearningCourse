{
 "cells": [
  {
   "cell_type": "code",
   "execution_count": 12,
   "id": "initial_id",
   "metadata": {
    "collapsed": true,
    "ExecuteTime": {
     "end_time": "2023-12-20T10:18:14.376304800Z",
     "start_time": "2023-12-20T10:18:13.488641800Z"
    }
   },
   "outputs": [],
   "source": [
    "#imports\n",
    "import numpy as np\n",
    "from sklearn.metrics import r2_score, mean_squared_error\n",
    "from sklearn.linear_model import LinearRegression"
   ]
  },
  {
   "cell_type": "code",
   "execution_count": 16,
   "outputs": [],
   "source": [
    "class CustomLinearRegression:\n",
    "    def __init__(self):\n",
    "        self.coefficients = None\n",
    "\n",
    "    def fit(self, X, y):\n",
    "        X = np.array(X)\n",
    "        y = np.array(y)\n",
    "        X = np.column_stack((np.ones(len(X)), X))  \n",
    "        self.coefficients = np.linalg.inv(X.T @ X) @ X.T @ y\n",
    "\n",
    "    def predict(self, X):\n",
    "        X = np.array(X)\n",
    "        X = np.column_stack((np.ones(len(X)), X))\n",
    "        return X @ self.coefficients\n",
    "\n",
    "def calculate_r2_score(y_true, y_pred):\n",
    "    return r2_score(y_true, y_pred)\n",
    "\n",
    "def calculate_rmse(y_true, y_pred):\n",
    "    return np.sqrt(mean_squared_error(y_true, y_pred))\n",
    "\n",
    "# Data for task\n",
    "x = [4, 4.5, 5, 5.5, 6, 6.5, 7]\n",
    "w = [1, -3, 2, 5, 0, 3, 6]\n",
    "z = [11, 15, 12, 9, 18, 13, 16]\n",
    "y = [33, 42, 45, 51, 53, 61, 62]\n",
    "\n",
    "# Linear regression of my own model\n",
    "custom_model = CustomLinearRegression()\n",
    "custom_model.fit(np.column_stack((x, w, z)), y)\n",
    "custom_predictions = custom_model.predict(np.column_stack((x, w, z)))\n",
    "\n",
    "# RMSE metrics of my own model\n",
    "custom_r2 = calculate_r2_score(y, custom_predictions)\n",
    "custom_rmse = calculate_rmse(y, custom_predictions)"
   ],
   "metadata": {
    "collapsed": false,
    "ExecuteTime": {
     "end_time": "2023-12-20T10:19:10.092824700Z",
     "start_time": "2023-12-20T10:19:10.088343Z"
    }
   },
   "id": "7983578fb8b49f7d"
  },
  {
   "cell_type": "code",
   "execution_count": 14,
   "outputs": [],
   "source": [
    "# Linear regression of sklearn\n",
    "sklearn_model = LinearRegression()\n",
    "sklearn_model.fit(np.column_stack((x, w, z)), y)\n",
    "sklearn_predictions = sklearn_model.predict(np.column_stack((x, w, z)))\n",
    "\n",
    "# RMSE metrics of sklearn model\n",
    "sklearn_r2 = calculate_r2_score(y, sklearn_predictions)\n",
    "sklearn_rmse = calculate_rmse(y, sklearn_predictions)"
   ],
   "metadata": {
    "collapsed": false,
    "ExecuteTime": {
     "end_time": "2023-12-20T10:18:31.051620700Z",
     "start_time": "2023-12-20T10:18:31.043729900Z"
    }
   },
   "id": "be6e230e14375e50"
  },
  {
   "cell_type": "code",
   "execution_count": 15,
   "outputs": [
    {
     "name": "stdout",
     "output_type": "stream",
     "text": [
      "Custom Model R^2 Score: 0.9947530855834741\n",
      "Custom Model RMSE: 0.6989266343237797\n",
      "Sklearn Model R^2 Score: 0.9947530855834741\n",
      "Sklearn Model RMSE: 0.6989266343237784\n"
     ]
    }
   ],
   "source": [
    "# Compare of own model and sklearn model\n",
    "print(\"Custom Model R^2 Score:\", custom_r2)\n",
    "print(\"Custom Model RMSE:\", custom_rmse)\n",
    "print(\"Sklearn Model R^2 Score:\", sklearn_r2)\n",
    "print(\"Sklearn Model RMSE:\", sklearn_rmse)"
   ],
   "metadata": {
    "collapsed": false,
    "ExecuteTime": {
     "end_time": "2023-12-20T10:18:40.542482300Z",
     "start_time": "2023-12-20T10:18:40.534905800Z"
    }
   },
   "id": "395b823aa47e63dc"
  },
  {
   "cell_type": "code",
   "execution_count": null,
   "outputs": [],
   "source": [],
   "metadata": {
    "collapsed": false
   },
   "id": "319e553087cb0457"
  }
 ],
 "metadata": {
  "kernelspec": {
   "display_name": "Python 3",
   "language": "python",
   "name": "python3"
  },
  "language_info": {
   "codemirror_mode": {
    "name": "ipython",
    "version": 2
   },
   "file_extension": ".py",
   "mimetype": "text/x-python",
   "name": "python",
   "nbconvert_exporter": "python",
   "pygments_lexer": "ipython2",
   "version": "2.7.6"
  }
 },
 "nbformat": 4,
 "nbformat_minor": 5
}
