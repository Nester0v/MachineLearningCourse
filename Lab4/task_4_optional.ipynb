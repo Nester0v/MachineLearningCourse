{
 "cells": [
  {
   "cell_type": "markdown",
   "source": [
    "# Практика №4 (додаткова)\n",
    "## Додаткове завдання по дослідженню даних за допомогою бібліотеки pandas. "
   ],
   "metadata": {
    "collapsed": false
   },
   "id": "66fc9e4ddfca5b72"
  },
  {
   "cell_type": "markdown",
   "source": [
    "В рамках цього завдання ви будете мати справу з наборами даних, які містять інформацію про пацієнтів із трьох лікарень: загальної ( *general* ), допологової ( *prenatal* ) і спортивної ( *sports* )."
   ],
   "metadata": {
    "collapsed": false
   },
   "id": "7f4574bb3f0d29f5"
  },
  {
   "cell_type": "code",
   "execution_count": 25,
   "outputs": [],
   "source": [
    "# імпорт необхідних бібліотек\n",
    "import pandas as pd\n",
    "import matplotlib.pyplot as plt"
   ],
   "metadata": {
    "collapsed": false,
    "ExecuteTime": {
     "end_time": "2023-12-18T15:01:29.080545600Z",
     "start_time": "2023-12-18T15:01:29.073196400Z"
    }
   },
   "id": "2d95e519371edf19"
  },
  {
   "cell_type": "code",
   "execution_count": 26,
   "outputs": [],
   "source": [
    "# встановлення кількісті стовпців, які pandas дозволяє відображати в терміналі\n",
    "pd.set_option('display.max_columns', 8)"
   ],
   "metadata": {
    "collapsed": false,
    "ExecuteTime": {
     "end_time": "2023-12-18T15:01:31.601438100Z",
     "start_time": "2023-12-18T15:01:31.595007900Z"
    }
   },
   "id": "3f2c426cf62b9a6f"
  },
  {
   "cell_type": "markdown",
   "source": [
    "Спочатку необхідно прочитати 3 файли CSV, що містять набори даних."
   ],
   "metadata": {
    "collapsed": false
   },
   "id": "931ccb9848382a7b"
  },
  {
   "cell_type": "code",
   "execution_count": 30,
   "outputs": [],
   "source": [
    "# зчитати csv файли\n",
    "file_path_general = r'E:\\Programs\\Development\\PyCharm\\MachineLearningCourse\\Lab4\\general.csv'\n",
    "file_path_sports = r'E:\\Programs\\Development\\PyCharm\\MachineLearningCourse\\Lab4\\prenatal.csv'\n",
    "file_path_prenatal = r'E:\\Programs\\Development\\PyCharm\\MachineLearningCourse\\Lab4\\sports.csv'\n",
    "\n",
    "df_data_general = pd.read_csv(file_path_general)\n",
    "df_data_sports = pd.read_csv(file_path_sports)\n",
    "df_data_prenatal = pd.read_csv(file_path_prenatal)"
   ],
   "metadata": {
    "collapsed": false,
    "ExecuteTime": {
     "end_time": "2023-12-18T15:07:07.094930100Z",
     "start_time": "2023-12-18T15:07:07.081778300Z"
    }
   },
   "id": "cba2f894d10663bb"
  },
  {
   "cell_type": "code",
   "execution_count": 31,
   "outputs": [
    {
     "name": "stdout",
     "output_type": "stream",
     "text": [
      "General DataFrame:\n",
      "    Unnamed: 0 hospital gender  age  ...  mri  xray  children months\n",
      "0            0  general    man   33  ...  NaN   NaN       NaN    NaN\n",
      "1            1  general    man   48  ...  NaN   NaN       NaN    NaN\n",
      "2            2  general  woman   23  ...  NaN   NaN       NaN    NaN\n",
      "3            3  general    man   27  ...  NaN   NaN       NaN    NaN\n",
      "4            4  general  woman   22  ...  NaN     f       NaN    NaN\n",
      "5            5  general    man   46  ...  NaN   NaN       NaN    NaN\n",
      "6            6  general  woman   68  ...  NaN   NaN       NaN    NaN\n",
      "7            7  general    man   35  ...  NaN   NaN       NaN    NaN\n",
      "8            8  general  woman   50  ...  NaN     f       NaN    NaN\n",
      "9            9  general    man   25  ...  NaN   NaN       NaN    NaN\n",
      "10          10  general    man   27  ...  NaN   NaN       NaN    NaN\n",
      "11          11  general    man   57  ...  NaN   NaN       NaN    NaN\n",
      "12          12  general    man   29  ...  NaN     f       NaN    NaN\n",
      "13          13  general  woman   18  ...  NaN   NaN       NaN    NaN\n",
      "14          14  general  woman   47  ...  NaN   NaN       NaN    NaN\n",
      "15          15  general  woman   51  ...  NaN   NaN       NaN    NaN\n",
      "16          16  general  woman   56  ...  NaN     t       NaN    NaN\n",
      "17          17  general  woman   38  ...  NaN   NaN       NaN    NaN\n",
      "18          18  general  woman   32  ...  NaN   NaN       NaN    NaN\n",
      "19          19  general  woman   69  ...  NaN     f       NaN    NaN\n",
      "\n",
      "[20 rows x 15 columns]\n",
      "\n",
      "Prenatal DataFrame:\n",
      "    Unnamed: 0 Hospital Male/female   age  ...  mri  xray  children months\n",
      "0            0   sports      female  20.0  ...    t     f       NaN    NaN\n",
      "1            1   sports      female  20.0  ...    f     t       NaN    NaN\n",
      "2            2   sports        male  16.0  ...    f     t       NaN    NaN\n",
      "3            3   sports        male  17.0  ...    t     f       NaN    NaN\n",
      "4            4   sports        male  19.0  ...    f     t       NaN    NaN\n",
      "5            5      NaN         NaN   NaN  ...  NaN   NaN       NaN    NaN\n",
      "6            6   sports      female  14.0  ...    t     f       NaN    NaN\n",
      "7            7   sports      female  22.0  ...    t     f       NaN    NaN\n",
      "8            8   sports      female  21.0  ...    f     t       NaN    NaN\n",
      "9            9   sports      female  18.0  ...    t     f       NaN    NaN\n",
      "10          10   sports        male  12.0  ...    f     t       NaN    NaN\n",
      "11          11   sports        male  15.0  ...    f     t       NaN    NaN\n",
      "12          12   sports      female  22.0  ...    f     f       NaN    NaN\n",
      "13          13   sports      female  19.0  ...    f     t       NaN    NaN\n",
      "14          14   sports      female  16.0  ...    f     t       NaN    NaN\n",
      "15          15   sports      female  19.0  ...    f     t       NaN    NaN\n",
      "16          16   sports        male  18.0  ...    f     t       NaN    NaN\n",
      "17          17   sports      female  18.0  ...    t     f       NaN    NaN\n",
      "18          18   sports        male  19.0  ...    f     t       NaN    NaN\n",
      "19          19   sports      female  17.0  ...    t     f       NaN    NaN\n",
      "\n",
      "[20 rows x 15 columns]\n",
      "\n",
      "Sports DataFrame:\n",
      "    Unnamed: 0  HOSPITAL  Sex   age  ...  mri  xray  children months\n",
      "0            0  prenatal  NaN  27.0  ...  NaN     f       0.0    3.0\n",
      "1            1  prenatal  NaN  18.0  ...  NaN     f       1.0    5.0\n",
      "2            2  prenatal  NaN  34.0  ...  NaN     f       1.0    5.0\n",
      "3            3  prenatal  NaN  29.0  ...  NaN     f       2.0    3.0\n",
      "4            4  prenatal  NaN  33.0  ...  NaN     f       1.0    7.0\n",
      "5            5  prenatal  NaN  31.0  ...  NaN     f       0.0    3.0\n",
      "6            6  prenatal  NaN  30.0  ...  NaN     f       0.0    5.0\n",
      "7            7  prenatal  NaN  19.0  ...  NaN     f       1.0    6.0\n",
      "8            8  prenatal  NaN  44.0  ...  NaN     f       2.0    6.0\n",
      "9            9  prenatal  NaN  35.0  ...  NaN     f       0.0    6.0\n",
      "10          10  prenatal  NaN  41.0  ...  NaN     f       2.0    7.0\n",
      "11          11  prenatal  NaN  26.0  ...  NaN     f       0.0    7.0\n",
      "12          12  prenatal  NaN  25.0  ...  NaN     f       1.0    5.0\n",
      "13          13  prenatal  NaN  41.0  ...  NaN     f       2.0    8.0\n",
      "14          14  prenatal  NaN  27.0  ...  NaN     f       0.0    6.0\n",
      "15          15  prenatal  NaN  26.0  ...  NaN     f       2.0    2.0\n",
      "16          16  prenatal  NaN  16.0  ...  NaN     f       1.0    4.0\n",
      "17          17  prenatal  NaN  33.0  ...  NaN     f       1.0    9.0\n",
      "18          18  prenatal  NaN  35.0  ...  NaN     f       1.0    8.0\n",
      "19          19  prenatal  NaN  30.0  ...  NaN     f       2.0    9.0\n",
      "\n",
      "[20 rows x 15 columns]\n",
      "List of label columns: ['Unnamed: 0', 'hospital', 'gender', 'age', 'height', 'weight', 'bmi', 'diagnosis', 'blood_test', 'ecg', 'ultrasound', 'mri', 'xray', 'children', 'months']\n",
      "List of label columns: ['Unnamed: 0', 'Hospital', 'Male/female', 'age', 'height', 'weight', 'bmi', 'diagnosis', 'blood_test', 'ecg', 'ultrasound', 'mri', 'xray', 'children', 'months']\n",
      "List of label columns: ['Unnamed: 0', 'HOSPITAL', 'Sex', 'age', 'height', 'weight', 'bmi', 'diagnosis', 'blood_test', 'ecg', 'ultrasound', 'mri', 'xray', 'children', 'months']\n"
     ]
    }
   ],
   "source": [
    "# надрукуйте перші 20 рядків кожного DataFrame (general, prenatal, sports)\n",
    "print(\"General DataFrame:\")\n",
    "print(df_data_general.head(20))\n",
    "\n",
    "print(\"\\nPrenatal DataFrame:\")\n",
    "print(df_data_prenatal.head(20))\n",
    "\n",
    "print(\"\\nSports DataFrame:\")\n",
    "print(df_data_sports.head(20))\n",
    "\n",
    "df_columns_general = list(df_data_general.columns)\n",
    "print(\"List of label columns:\", df_columns_general)\n",
    "df_columns_prenatal = list(df_data_prenatal.columns)\n",
    "print(\"List of label columns:\", df_columns_prenatal)\n",
    "df_columns_sports = list(df_data_sports.columns)\n",
    "print(\"List of label columns:\", df_columns_sports)"
   ],
   "metadata": {
    "collapsed": false,
    "ExecuteTime": {
     "end_time": "2023-12-18T15:08:46.636650900Z",
     "start_time": "2023-12-18T15:08:46.602149200Z"
    }
   },
   "id": "d6018d1e10cb15d0"
  },
  {
   "cell_type": "markdown",
   "source": [
    " З отриманих даних можна переконатися в тому, що воні поділені на три частини, а назви стовпців різні: **HOSPITAL** і **Sex** у пренатальному відділенні ( *prenatal* ), **Hospital** і **Male/female** у спортивному ( *sports* ). Це заважає дослідженню даних і проведенню статистичних розрахунків та візуалізації. Тому необхідно змінити назви стовпців і об’єднаєти отримані набори даних в один.\n",
    "\n",
    "Щоб об’єднати стовпці, використовуйте функцію **concat** і параметр **ignore_index=True**. Після об’єднання з’явиться бічний стовпець **Unnamed: 0**. Цей стовпець містить індекси таблиць. Цей стовпець не потрібен для практичних цілей, тому видаліть його. \n",
    "\n",
    "Кроки виконання:\n",
    "1. Змініть назви стовпців. Всі назви стовпців у спортивній ( *sports* ) і допологовій ( *prenatal* ) таблицях повинні збігатися з назвами стовпців у загальній таблиці ( *general* ). Зверніть увагу на атрибут **columns**.\n",
    "2. Об’єднайте DataFrames в один. Використовуйте параметр **ignore_index=True** і наступний порядок: **general**, **prenatal**, **sports**.\n",
    "3. Видаліть стовпець **Unnamed: 0** (див. функцію **drop**).\n",
    "4. Надрукуйте 20 випадкових рядків отриманого DataFrame. Для відтворення встановіть random_state=30 (див. [документацію](https://pandas.pydata.org/docs/reference/api/pandas.DataFrame.sample.html))."
   ],
   "metadata": {
    "collapsed": false
   },
   "id": "4140a58da2905ae9"
  },
  {
   "cell_type": "code",
   "execution_count": 33,
   "outputs": [
    {
     "name": "stdout",
     "output_type": "stream",
     "text": [
      "    hospital gender   age  height  ...  Hospital  Male/female  HOSPITAL Sex\n",
      "928      NaN    NaN  30.0   1.580  ...       NaN          NaN  prenatal NaN\n",
      "926      NaN    NaN  26.0   1.680  ...       NaN          NaN  prenatal NaN\n",
      "901      NaN    NaN  42.0   1.630  ...       NaN          NaN  prenatal NaN\n",
      "87   general    man  54.0   1.720  ...       NaN          NaN       NaN NaN\n",
      "884      NaN    NaN  35.0   1.580  ...       NaN          NaN  prenatal NaN\n",
      "297  general    man  56.0   1.480  ...       NaN          NaN       NaN NaN\n",
      "112  general    man  77.0   1.690  ...       NaN          NaN       NaN NaN\n",
      "209  general    man  29.0   2.080  ...       NaN          NaN       NaN NaN\n",
      "419  general    man  53.0   1.700  ...       NaN          NaN       NaN NaN\n",
      "913      NaN    NaN  15.0   1.690  ...       NaN          NaN  prenatal NaN\n",
      "820      NaN    NaN  30.0   1.720  ...       NaN          NaN  prenatal NaN\n",
      "861      NaN    NaN  27.0   1.890  ...       NaN          NaN  prenatal NaN\n",
      "10   general    man  27.0   1.850  ...       NaN          NaN       NaN NaN\n",
      "56   general    man  23.0   1.650  ...       NaN          NaN       NaN NaN\n",
      "618      NaN    NaN  21.0   6.514  ...    sports         male       NaN NaN\n",
      "978      NaN    NaN  46.0   1.790  ...       NaN          NaN  prenatal NaN\n",
      "373  general  woman  44.0   1.660  ...       NaN          NaN       NaN NaN\n",
      "628      NaN    NaN  15.0   6.374  ...    sports       female       NaN NaN\n",
      "858      NaN    NaN  31.0   1.820  ...       NaN          NaN  prenatal NaN\n",
      "944      NaN    NaN  32.0   1.620  ...       NaN          NaN  prenatal NaN\n",
      "\n",
      "[20 rows x 18 columns]\n"
     ]
    }
   ],
   "source": [
    "# приклад виконання 4-го кроку:\n",
    "# pandas.DataFrame.sample(n=20, random_state=30)\n",
    "\n",
    "df_data_prenatal = df_data_prenatal.rename(columns={'HOSPITAL': 'hospital', 'Sex': 'gender'})\n",
    "df_data_sports = df_data_sports.rename(columns={'Hospital': 'hospital', 'Male/female': 'gender'})\n",
    "df_combined = pd.concat([df_data_general,\n",
    "                         df_data_prenatal,\n",
    "                         df_data_sports],\n",
    "                        ignore_index=True)\n",
    "df_combined = df_combined.drop(columns='Unnamed: 0', errors='ignore')\n",
    "print(df_combined.sample(n=20, random_state=30))"
   ],
   "metadata": {
    "collapsed": false,
    "ExecuteTime": {
     "end_time": "2023-12-18T15:13:07.725208800Z",
     "start_time": "2023-12-18T15:13:07.712209800Z"
    }
   },
   "id": "7825e875428905ac"
  },
  {
   "cell_type": "markdown",
   "source": [
    "Далі необхідно виправити таблицю для подальшого аналізу. Деякі комірки таблиці мають значення **NaN**: стать пацієнта не визначена в пологовому стаціонарі, а стовпці з результатами медичних досліджень мають порожні значення у всіх трьох таблицях. Якщо розглянути стовпець **gender**, то в ньому можна побачити **female**, **male**, **man**, **woman**. Тому потрібно виправити дані в цьому стовпці - значення мають бути **f** або **m**. Замініть значення порожнього стовпця статі **gender** для пренатальних пацієнтів на **f** (можна припустити, що пренатальний лікує лише жінок).\n",
    "\n",
    "Стовпці **bmi**, **diagnosis**, **blood_test**, **ecg**, **ultrasound**, **mri**, **xray**, **children**, **months** також потрібно виправити. Замініть значення **NaN** у стовпцях вище нулями. \n",
    "\n",
    "Кроки виконання:\n",
    "1. Видалити всі порожні рядки (див. функцію [dropna](https://pandas.pydata.org/docs/reference/api/pandas.DataFrame.dropna.html)).\n",
    "2. Виправте всі значення стовпця **gender** на **f** і **m** відповідно (див. функцію [replace](https://pandas.pydata.org/docs/reference/api/pandas.DataFrame.replace.html)).\n",
    "3. Замініть значення **NaN** у стовпці **gender** допологового стаціонару ( *prenatal* ) на **f** (див. функцію [fillna](https://pandas.pydata.org/docs/reference/api/pandas.DataFrame.fillna.html)).\n",
    "4. Замініть значення **NaN** у стовпцях **bmi**, **diagnosis**, **blood_test**, **ecg**, **ultrasound**, **mri**, **xray**, **children**, **months** на нулі.\n",
    "5. Надрукуйте розміри ( *shape* ) отриманого об'єкту DataFrame.\n",
    "6. Надрукуйте 20 випадкових рядків отриманого DataFrame. Для відтворення встановіть **random_state=30**.\n",
    "\n"
   ],
   "metadata": {
    "collapsed": false
   },
   "id": "efe6515726c24510"
  },
  {
   "cell_type": "code",
   "execution_count": 34,
   "outputs": [
    {
     "name": "stdout",
     "output_type": "stream",
     "text": [
      "Dimensions of the received DataFrame object:  (1006, 19)\n",
      "\n",
      "    hospital gender   age  height  ...  Hospital  Male/female  HOSPITAL Sex\n",
      "929      NaN    NaN  32.0   1.860  ...       NaN          NaN  prenatal NaN\n",
      "927      NaN    NaN  29.0   1.520  ...       NaN          NaN  prenatal NaN\n",
      "517      NaN    NaN  18.0   5.931  ...    sports            f       NaN NaN\n",
      "87   general      m  54.0   1.720  ...       NaN          NaN       NaN NaN\n",
      "884      NaN    NaN  35.0   1.580  ...       NaN          NaN  prenatal NaN\n",
      "463      NaN    NaN  16.0   6.960  ...    sports            m       NaN NaN\n",
      "112  general      m  77.0   1.690  ...       NaN          NaN       NaN NaN\n",
      "297  general      m  56.0   1.480  ...       NaN          NaN       NaN NaN\n",
      "417  general      f  26.0   1.650  ...       NaN          NaN       NaN NaN\n",
      "661      NaN    NaN  18.0   6.986  ...    sports            m       NaN NaN\n",
      "344  general      f  60.0   1.410  ...       NaN          NaN       NaN NaN\n",
      "834      NaN    NaN  54.0   1.610  ...       NaN          NaN  prenatal NaN\n",
      "10   general      m  27.0   1.850  ...       NaN          NaN       NaN NaN\n",
      "56   general      m  23.0   1.650  ...       NaN          NaN       NaN NaN\n",
      "618      NaN    NaN  21.0   6.514  ...    sports            m       NaN NaN\n",
      "480      NaN    NaN  17.0   6.183  ...    sports            f       NaN NaN\n",
      "580      NaN    NaN  13.0   5.739  ...    sports            f       NaN NaN\n",
      "411  general      m  26.0   1.610  ...       NaN          NaN       NaN NaN\n",
      "522      NaN    NaN  26.0   5.688  ...    sports            f       NaN NaN\n",
      "941      NaN    NaN  30.0   1.670  ...       NaN          NaN  prenatal NaN\n",
      "\n",
      "[20 rows x 18 columns]\n"
     ]
    }
   ],
   "source": [
    "# виправлення даних у таблиці\n",
    "df_combined = df_combined.dropna(how='all')\n",
    "gender_mapping = {'female': 'f', 'woman': 'f', 'male': 'm', 'man': 'm'}\n",
    "df_combined = df_combined.replace(gender_mapping)\n",
    "df_combined.loc[df_combined['hospital'] == 'prenatal', 'gender'] = df_combined.loc[df_combined['hospital'] == 'prenatal', 'gender'].fillna('f')\n",
    "columns_to_replace = ['bmi', 'diagnosis', 'blood_test', 'ecg', 'ultrasound', 'mri', 'xray', 'children', 'months']\n",
    "df_combined[columns_to_replace] = df_combined[columns_to_replace].fillna(0)\n",
    "print(\"Dimensions of the received DataFrame object: \",\n",
    "      pd.concat([df_data_general,\n",
    "                 df_data_prenatal,\n",
    "                 df_data_sports],\n",
    "                ignore_index=True).shape)\n",
    "print()\n",
    "print(df_combined.sample(n=20, random_state=30))"
   ],
   "metadata": {
    "collapsed": false,
    "ExecuteTime": {
     "end_time": "2023-12-18T15:13:13.506648200Z",
     "start_time": "2023-12-18T15:13:13.487278200Z"
    }
   },
   "id": "934883b586b7e306"
  },
  {
   "cell_type": "markdown",
   "source": [
    "Після виправлення даних можна отримати основні статистичні характеристики, розподіл даних, тощо. \n",
    "\n",
    "Надайте відповіді на наступні питання:\n",
    "1. Яка лікарня ( *hospital* ) має найбільшу кількість пацієнтів? (див. функції [groupby, count](https://pandas.pydata.org/docs/reference/api/pandas.core.groupby.DataFrameGroupBy.count.html), [idxmax](https://pandas.pydata.org/docs/reference/api/pandas.DataFrame.idxmax.html))\n",
    "2. Яка частка пацієнтів загальної ( *general* ) лікарні страждає на проблеми зі шлунком (стовпець *stomach* )? Округліть результат до третього знака після коми. (зверніть увагу на стовпці *diagnosis*, *stomach*, див. на функцію [value_counts()](https://pandas.pydata.org/docs/reference/api/pandas.Series.value_counts.html))\n",
    "3. Яка різниця в медіанному віці (необхідно знайти значення медіани) пацієнтів загальної ( *general* ) та спортивної ( *sports* ) лікарень? (див. функцію [median()](https://pandas.pydata.org/docs/reference/api/pandas.DataFrame.median.html))\n"
   ],
   "metadata": {
    "collapsed": false
   },
   "id": "10672eff86259172"
  },
  {
   "cell_type": "code",
   "execution_count": 35,
   "outputs": [
    {
     "name": "stdout",
     "output_type": "stream",
     "text": [
      "The hospital with the largest number of patients: general\n",
      "Share of general hospital patients with stomach problems: 0.325\n",
      "Difference in median age between patients of general and sports hospitals: nan\n"
     ]
    }
   ],
   "source": [
    "# ваш код\n",
    "hospital_patient_counts = df_combined.groupby('hospital')['gender'].count()\n",
    "most_patients_hospital = hospital_patient_counts.idxmax()\n",
    "print(f\"The hospital with the largest number of patients: {most_patients_hospital}\")\n",
    "\n",
    "general_stomach_patients = df_combined[(df_combined['hospital'] == 'general') & (df_combined['diagnosis'] == 'stomach')]\n",
    "fraction_stomach_patients = len(general_stomach_patients) / len(df_combined[df_combined['hospital'] == 'general'])\n",
    "fraction_stomach_patients_rounded = round(fraction_stomach_patients, 3)\n",
    "print(f\"Share of general hospital patients with stomach problems: {fraction_stomach_patients_rounded}\")\n",
    "\n",
    "general_age = df_combined[df_combined['hospital'] == 'general']['age']\n",
    "sports_age = df_combined[df_combined['hospital'] == 'sports']['age']\n",
    "median_general_age = general_age.median()\n",
    "median_sports_age = sports_age.median()\n",
    "age_difference = median_general_age - median_sports_age\n",
    "print(f\"Difference in median age between patients of general and sports hospitals: {age_difference}\")"
   ],
   "metadata": {
    "collapsed": false,
    "ExecuteTime": {
     "end_time": "2023-12-18T15:13:33.849522100Z",
     "start_time": "2023-12-18T15:13:33.841072800Z"
    }
   },
   "id": "2e603178c7bca2c0"
  },
  {
   "cell_type": "markdown",
   "source": [
    "В кінці необхідно створити візуалізацію даних.\n",
    "Отже, покажіть який вік пацієнтів найчастіше серед усіх лікарень? Побудуйте гістограму та виберіть один із таких вікових діапазонів: 0-15, 15-35, 35-55, 55-70 або 70-80."
   ],
   "metadata": {
    "collapsed": false
   },
   "id": "5cb0a071f2d5f07"
  },
  {
   "cell_type": "code",
   "execution_count": 38,
   "outputs": [
    {
     "data": {
      "text/plain": "<Figure size 640x480 with 1 Axes>",
      "image/png": "[encoded data removed]"
     },
     "metadata": {},
     "output_type": "display_data"
    }
   ],
   "source": [
    "age_range = (35, 55)\n",
    "filtered_age_data = df_combined[(df_combined['age'] >= age_range[0]) & (df_combined['age'] <= age_range[1])]\n",
    "plt.hist(filtered_age_data['age'], bins=20, color='skyblue', edgecolor='black')\n",
    "plt.title('Age distribution of patients of all hospitals (35-55)')\n",
    "plt.xlabel('Age')\n",
    "plt.ylabel('Number of patients')\n",
    "plt.show()"
   ],
   "metadata": {
    "collapsed": false,
    "ExecuteTime": {
     "end_time": "2023-12-18T15:16:25.059450700Z",
     "start_time": "2023-12-18T15:16:24.938544Z"
    }
   },
   "id": "e01f8dbf9a110c47"
  },
  {
   "cell_type": "code",
   "execution_count": null,
   "outputs": [],
   "source": [],
   "metadata": {
    "collapsed": false
   },
   "id": "790b7c5569c7bbd3"
  }
 ],
 "metadata": {
  "kernelspec": {
   "display_name": "Python 3",
   "language": "python",
   "name": "python3"
  },
  "language_info": {
   "codemirror_mode": {
    "name": "ipython",
    "version": 2
   },
   "file_extension": ".py",
   "mimetype": "text/x-python",
   "name": "python",
   "nbconvert_exporter": "python",
   "pygments_lexer": "ipython2",
   "version": "2.7.6"
  }
 },
 "nbformat": 4,
 "nbformat_minor": 5
}
